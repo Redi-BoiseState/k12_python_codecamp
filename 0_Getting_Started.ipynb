{
 "cells": [
  {
   "cell_type": "markdown",
   "metadata": {},
   "source": [
    "# 0. Getting Started\n",
    "\n",
    "#### Objectives\n",
    "\n",
    "At the end of this notebook, you will be able to:\n",
    "1. List a few ways that Jupyter notebooks can be used \n",
    "2. \n",
    "\n",
    "#### Background and Overview\n",
    "\n",
    "What you're using right now is called a Jupyter Notebook. Jupyter is a portmonteau of \"Julia, Python, and R\" --- the languages that these notebooks are designed to support natively. Old timers like me may also sometimes refer to them as \"iPython notebooks,\" because they were initially designed to support only "
   ]
  },
  {
   "cell_type": "code",
   "execution_count": null,
   "metadata": {},
   "outputs": [],
   "source": []
  }
 ],
 "metadata": {
  "kernelspec": {
   "display_name": "geos505",
   "language": "python",
   "name": "python3"
  },
  "language_info": {
   "codemirror_mode": {
    "name": "ipython",
    "version": 3
   },
   "file_extension": ".py",
   "mimetype": "text/x-python",
   "name": "python",
   "nbconvert_exporter": "python",
   "pygments_lexer": "ipython3",
   "version": "3.11.0"
  }
 },
 "nbformat": 4,
 "nbformat_minor": 2
}
