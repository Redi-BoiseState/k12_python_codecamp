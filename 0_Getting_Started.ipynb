{
 "cells": [
  {
   "cell_type": "markdown",
   "metadata": {},
   "source": [
    "# 0. Getting Started\n",
    "\n",
    "#### Objectives\n",
    "\n",
    "At the end of this notebook, you will be able to:\n",
    "1. Evaluate sequences of code given to you in a Jupyter Notebook\n",
    "2. Describe what interactive computing is in the context of this notebook\n",
    "3. List some advantages and disadvantages of interactive computing\n",
    "\n",
    "#### Background and Overview\n",
    "\n",
    "What you're using right now is called a Jupyter Notebook. Jupyter is a portmonteau of \"Julia, Python, and R\" -- the languages that these notebooks are designed to support natively. Old timers like me may also sometimes refer to them as \"iPython notebooks,\" because they were initially designed to support only the Python programming language. These are referred to as \"high-level\" programming languages because we use them at a \"high level\" – that is, we give the computer a set of commands in something that is close to being human readable and the computer will interpret those commands and perform a series of tasks. Python, Julia, and R are all also often referred to as scientific computing languages because they are languages frequently used by scientists or others to do data analysis, interpretation, and visualization. Python is, however, a bit of an oddball because it is also used for a lot of other applications like web development. \n",
    "\n",
    "The essential feature that makes Jupyter Notebooks powerful tools for teaching, learning, as well as data science and research is that they are ___interactive___. That is, we can write and evaluate code one chunk at a time. A chunk could be a single line or it could be hundreds of lines (perhaps not wise). But either way, we can stop along the way to make sure that our code is doing what we expect it to do before proceeding. \n",
    "\n",
    "These chunks of code are contained in what refer to as _cells_. Enough reading, though, let's get started and see what this looks like. The following is a cell of code. Click on it and press the \"play\" icon or simply press \"Shift-Enter\" if on a PC or \"Cmd-Return\" on a Mac."
   ]
  },
  {
   "cell_type": "code",
   "execution_count": 20,
   "metadata": {},
   "outputs": [
    {
     "data": {
      "text/plain": [
       "13"
      ]
     },
     "execution_count": 20,
     "metadata": {},
     "output_type": "execute_result"
    }
   ],
   "source": [
    "9+4"
   ]
  },
  {
   "cell_type": "markdown",
   "metadata": {},
   "source": [
    "What did this do? It simply added the numbers 9 and 4 together and displayed the output. Is this correct? If so, then our piece of code did what expected. If not, we would need to go back and correct a mistake. \n",
    "\n",
    "This a pretty simple example. We can do something slightly more complex:"
   ]
  },
  {
   "cell_type": "code",
   "execution_count": 21,
   "metadata": {},
   "outputs": [
    {
     "data": {
      "text/plain": [
       "42.3"
      ]
     },
     "execution_count": 21,
     "metadata": {},
     "output_type": "execute_result"
    }
   ],
   "source": [
    "9.5*3.4 + 10"
   ]
  },
  {
   "cell_type": "markdown",
   "metadata": {},
   "source": [
    "Or..."
   ]
  },
  {
   "cell_type": "code",
   "execution_count": 22,
   "metadata": {},
   "outputs": [
    {
     "data": {
      "text/plain": [
       "111"
      ]
     },
     "execution_count": 22,
     "metadata": {},
     "output_type": "execute_result"
    }
   ],
   "source": [
    "10*(5+6) + 1"
   ]
  },
  {
   "cell_type": "markdown",
   "metadata": {},
   "source": [
    "In the above we showed we could do multiple operations simultaneously and we confirmed that our program language, indeed, conforms to our good ol' PEMDAS convention for mathematical operations. \n",
    "\n",
    "Thusfar, however, we've only used Python and this notebook as a fancy calculator. And, indeed, we have more sophisticated functions at our disposal: "
   ]
  },
  {
   "cell_type": "code",
   "execution_count": 23,
   "metadata": {},
   "outputs": [
    {
     "data": {
      "text/plain": [
       "16"
      ]
     },
     "execution_count": 23,
     "metadata": {},
     "output_type": "execute_result"
    }
   ],
   "source": [
    "4**2 \n",
    "# What is the operator '**' doing? \n",
    "# How does it differ from how we would write it on the board?"
   ]
  },
  {
   "cell_type": "code",
   "execution_count": 24,
   "metadata": {},
   "outputs": [
    {
     "data": {
      "text/plain": [
       "7.38905609893065"
      ]
     },
     "execution_count": 24,
     "metadata": {},
     "output_type": "execute_result"
    }
   ],
   "source": [
    "import numpy as np # Don't worry about what this is for the moment\n",
    "\n",
    "np.exp(2.0) # Compute e to the 2.0 power"
   ]
  },
  {
   "cell_type": "code",
   "execution_count": 25,
   "metadata": {},
   "outputs": [
    {
     "data": {
      "text/plain": [
       "1.0"
      ]
     },
     "execution_count": 25,
     "metadata": {},
     "output_type": "execute_result"
    }
   ],
   "source": [
    "np.cos(0) # Compute the cosine of 0.0"
   ]
  },
  {
   "cell_type": "code",
   "execution_count": 26,
   "metadata": {},
   "outputs": [
    {
     "data": {
      "text/plain": [
       "1.2246467991473532e-16"
      ]
     },
     "execution_count": 26,
     "metadata": {},
     "output_type": "execute_result"
    }
   ],
   "source": [
    "np.sin(np.pi) \n",
    "# Compute the sin of pi\n",
    "# Note: What should this be and why is it different? []"
   ]
  },
  {
   "cell_type": "markdown",
   "metadata": {},
   "source": [
    "#### Using Notebooks for Proper Programming\n",
    "\n",
    "Ok, now we're using Python and this notebook as maybe something like a scientific calculator. But, still as _just_ a calculator. Can we do more sophisticated things?\n",
    "\n",
    "Let's start by examining a key concept in both programming and in middle school mathematics: the idea that a _variable_ is something that assumes the value of a number, based on the context. "
   ]
  },
  {
   "cell_type": "code",
   "execution_count": 27,
   "metadata": {},
   "outputs": [
    {
     "name": "stdout",
     "output_type": "stream",
     "text": [
      "3.0\n"
     ]
    }
   ],
   "source": [
    "x = 15\n",
    "\n",
    "print(x/5)"
   ]
  },
  {
   "cell_type": "markdown",
   "metadata": {},
   "source": [
    "Note that in the above I've switched to using a more formal `print` statement to tell Python to print something to the screen. But also note that it didn't pring 'x/5' literally, it implicitly did the calculation 15/5 = 3 and printed the result! \n",
    "\n",
    "Now, let's get slightly more complicated: "
   ]
  },
  {
   "cell_type": "code",
   "execution_count": 28,
   "metadata": {},
   "outputs": [
    {
     "name": "stdout",
     "output_type": "stream",
     "text": [
      "60\n"
     ]
    }
   ],
   "source": [
    "b = 4\n",
    "\n",
    "print(x*b)"
   ]
  },
  {
   "cell_type": "markdown",
   "metadata": {},
   "source": [
    "A couple of interesting things:\n",
    "* We successfully multiplied one variable (x = 15 and b = 4) and got the result we expected\n",
    "* The value of `x` _persisted_ across the cell. That is, we didn't have to redefine what `x` was equal to. It kept the value of 15. It continue to represent a value of 15 up until we redefine it. \n",
    "\n",
    "__NOTE:__ The latter point is important and powerful, but can be a source of confusion. For example, run the following cell and then re-run the cell above immediately after. What is the output now? "
   ]
  },
  {
   "cell_type": "code",
   "execution_count": null,
   "metadata": {},
   "outputs": [],
   "source": [
    "x = x - 10"
   ]
  },
  {
   "cell_type": "markdown",
   "metadata": {},
   "source": [
    "__NOTE:__ In the above cell, the logic of what we did was: \"(1) take the current value of `x`, (2) subtract 10, and (3) store the result in the variable `x`.\" This is a perfectly valid statement in Python (and most other programming languages) and is not an uncommon way of changing variable values. But does not make mathematical sense and can be a source of confusion for new learners. "
   ]
  },
  {
   "cell_type": "code",
   "execution_count": 29,
   "metadata": {},
   "outputs": [],
   "source": [
    "def IsLeapYear(year):\n",
    "    \n",
    "    LeapYearMsg = \"Leap year!\"\n",
    "    NotLeapYearMsg = \"Not a leap year\"\n",
    "    \n",
    "    if(year % 4 == 0):\n",
    "        if(year % 100 == 0):\n",
    "            if(year % 500 == 0):\n",
    "                print(LeapYearMsg)\n",
    "            else:\n",
    "                print(NotLeapYearMsg)\n",
    "        else:\n",
    "            print(LeapYearMsg)\n",
    "    else:\n",
    "        print(NotLeapYearMsg)"
   ]
  },
  {
   "cell_type": "code",
   "execution_count": 30,
   "metadata": {},
   "outputs": [
    {
     "name": "stdout",
     "output_type": "stream",
     "text": [
      "Leap year!\n"
     ]
    }
   ],
   "source": [
    "year = 2024\n",
    "\n",
    "IsLeapYear(year)"
   ]
  },
  {
   "cell_type": "code",
   "execution_count": 31,
   "metadata": {},
   "outputs": [
    {
     "name": "stdout",
     "output_type": "stream",
     "text": [
      "Not a leap year\n"
     ]
    }
   ],
   "source": [
    "year = 2023\n",
    "\n",
    "IsLeapYear(year)"
   ]
  },
  {
   "cell_type": "code",
   "execution_count": null,
   "metadata": {},
   "outputs": [],
   "source": []
  }
 ],
 "metadata": {
  "kernelspec": {
   "display_name": "geos505",
   "language": "python",
   "name": "python3"
  },
  "language_info": {
   "codemirror_mode": {
    "name": "ipython",
    "version": 3
   },
   "file_extension": ".py",
   "mimetype": "text/x-python",
   "name": "python",
   "nbconvert_exporter": "python",
   "pygments_lexer": "ipython3",
   "version": "3.11.0"
  }
 },
 "nbformat": 4,
 "nbformat_minor": 2
}
